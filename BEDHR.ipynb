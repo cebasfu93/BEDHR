{
 "cells": [
  {
   "cell_type": "markdown",
   "metadata": {
    "collapsed": true
   },
   "source": [
    "# BEDbla: Boltzmann Enhanced Discrimination bla"
   ]
  },
  {
   "cell_type": "code",
   "execution_count": 1,
   "metadata": {
    "collapsed": false,
    "slideshow": {
     "slide_type": "-"
    }
   },
   "outputs": [],
   "source": [
    "#Importa los paquetes necesarios\n",
    "from __future__ import division\n",
    "from pylab import *\n",
    "#%pylab inline \n",
    "import csv, os, random, sys, shutil, time\n",
    "from optparse import OptionParser\n",
    "from scipy import stats\n",
    "from scipy import optimize\n",
    "from optparse import OptionParser\n",
    "import numpy\n",
    "numpy.set_printoptions(threshold=numpy.nan)\n",
    "\n",
    "parser=OptionParser()\n",
    "tamano=18"
   ]
  },
  {
   "cell_type": "code",
   "execution_count": 2,
   "metadata": {
    "collapsed": false
   },
   "outputs": [],
   "source": [
    "parser.add_option(\"-i\",\"--input\", action=\"store\", type=\"string\", dest=\"InputFile\", help=\"Path of the .csv input file. Special requirements: There must be a column with the numerical activity values and another one whose values will be used for the sorting (scoring function). The first row will be ignored.\")\n",
    "parser.add_option(\"-d\", \"--threshold\", action=\"store\", type=\"int\", dest=\"Threshold\", help=\"Entries with an activity lower or equal than this value will be considered as active molecules.\")\n",
    "parser.add_option(\"-a\", \"--cactivity\", action=\"store\", type=\"int\", dest=\"NumericActivity\", help=\"Number of the column (starting from 0) that contains the numeric activity of each entry.\")\n",
    "parser.add_option(\"-f\", \"--nbedef\", action=\"store\", type=\"int\", dest=\"NBEDEF\", help=\"Percentage of screened compounds responsible for 80% of BEDEF value. By default BEDHR(1,5,20%) will be displayed.\")\n",
    "parser.add_option(\"-s\", \"--scoring\", action=\"store\", type=\"int\", dest=\"ScoreColumn\", default=-1, help=\"Number of the column (starting from 0) that contains the values of the scoring function used for the sorting. Default: The last one\")\n",
    "parser.add_option(\"-e\", \"--curves\", action=\"store_true\", dest=\"Curves\", default=False, help=\"Show enrichment curve and plot of enrichment factors as a function of N. Default: False\")\n",
    "\n",
    "(options, args) = parser.parse_args()\n",
    "\n",
    "#args_test=[\"-i\", \"./BEDHR-Results/Dock10.csv\", \"-d\", \"1\", \"-a\", \"1\", \"-f\", \"20\"]\n",
    "#(options, args) = parser.parse_args(args_test)"
   ]
  },
  {
   "cell_type": "code",
   "execution_count": 3,
   "metadata": {
    "collapsed": false,
    "scrolled": true
   },
   "outputs": [],
   "source": [
    "inputfile=options.InputFile\n",
    "\n",
    "thresAct=options.Threshold #Por debajo (o igual) a este valor se considera el compuesto activo\n",
    "coluMIC=options.NumericActivity\n",
    "Nbedef=options.NBEDEF\n",
    "curves=options.Curves\n",
    "\n",
    "#########################################################################################################################\n",
    "\n",
    "Datos=genfromtxt(inputfile, delimiter=',', skip_header=1)  "
   ]
  },
  {
   "cell_type": "code",
   "execution_count": 4,
   "metadata": {
    "collapsed": false,
    "scrolled": true
   },
   "outputs": [],
   "source": [
    "def arreglar(array):\n",
    "    filas=len(array[:,0])\n",
    "    columnas=len(array[0,:])\n",
    "    array_fix=zeros((filas , columnas+1))\n",
    "    array_fix[:,1:columnas+1]=array\n",
    "    \n",
    "    #Asigna valor boolean a columna 0    \n",
    "    for o in range(0,filas):\n",
    "        if (array_fix[o, coluMIC+1]<=thresAct):\n",
    "            array_fix[o, 0]=1\n",
    "        if (array_fix[o, coluMIC+1]>thresAct):\n",
    "            array_fix[o,0]=2\n",
    "    return array_fix\n",
    "\n",
    "#Arregla input\n",
    "DatosArreg=arreglar(Datos)\n",
    "\n",
    "if options.ScoreColumn == -1:\n",
    "    scorecolu=len(DatosArreg[0,:])-1\n",
    "else:\n",
    "    scorecolu=options.ScoreColumn"
   ]
  },
  {
   "cell_type": "markdown",
   "metadata": {},
   "source": [
    "## Enriquecimiento"
   ]
  },
  {
   "cell_type": "code",
   "execution_count": 5,
   "metadata": {
    "collapsed": false
   },
   "outputs": [],
   "source": [
    "#Ordena el array de menor a mayor segun los valores de numcol\n",
    "def Ordenador(array, numcol):\n",
    "    \n",
    "    Ordered=array[array[:,numcol].argsort()]\n",
    "    \n",
    "    return Ordered"
   ]
  },
  {
   "cell_type": "code",
   "execution_count": 6,
   "metadata": {
    "collapsed": false,
    "scrolled": true
   },
   "outputs": [],
   "source": [
    "#Crea array con la cantidad de compuestos screened en cada slot\n",
    "def CompScreened(arrayinp):\n",
    "    \n",
    "    compuestos_totales=len(arrayinp[:,0])\n",
    "    compuestos_screened=1\n",
    "    porcentaje_screened=zeros(compuestos_totales)\n",
    "    \n",
    "    for i in range(compuestos_totales):\n",
    "        nuevo_procentaje=(compuestos_screened/compuestos_totales)*100\n",
    "        compuestos_screened +=1\n",
    "        porcentaje_screened[i]=nuevo_procentaje\n",
    "        \n",
    "    return porcentaje_screened\n",
    "\n",
    "#Crea array con la cantidad de compuestos encontrados hasta cada slot\n",
    "def ActScreened(array, numcol):\n",
    "    \n",
    "    arrayord=Ordenador(array, numcol)\n",
    "    acttot=0\n",
    "    actfound=0\n",
    "    actscreen=zeros(len(array[:,0]))\n",
    "    \n",
    "    for h in range(0, len(arrayord[:,0])):\n",
    "        if (arrayord[h,0] == 1): #Aca se busca el 1 en la columna 0\n",
    "            acttot += 1\n",
    "            \n",
    "    for i in range(0, len(arrayord[:,0])):\n",
    "        if (arrayord[i, 0] == 1):\n",
    "            actfound += 1\n",
    "        actpercent = actfound/acttot * 100\n",
    "        actscreen[i]=actpercent\n",
    "        \n",
    "    return actscreen"
   ]
  },
  {
   "cell_type": "code",
   "execution_count": 7,
   "metadata": {
    "collapsed": false,
    "scrolled": false
   },
   "outputs": [],
   "source": [
    "#Grafica curva de enriquecimiento ordenando segun valores de CODE\n",
    "if curves == True:\n",
    "    figure(figsize=(8,8)); hold=True\n",
    "    p=arange(0,101,1)\n",
    "    lin=p\n",
    "    plot(p,lin, 'k-', lw=1, label=r'Random Ranking')\n",
    "    plot(CompScreened(DatosArreg), ActScreened(DatosArreg, scorecolu), lw=1, label=r'Scoring Function')\n",
    "    plot(CompScreened(DatosArreg), ActScreened(DatosArreg, 0), 'm-', lw=1, label=r'Ideal Behaviour')\n",
    "    title(r'Enrichment Curve', fontsize=tamano)\n",
    "    xlabel(r'Screened Compounds (%)', fontsize=tamano)\n",
    "    ylabel(r'Active Compounds Found (%)', fontsize=tamano)\n",
    "    legend(fontsize=tamano, fancybox=True, loc=2).get_frame().set_alpha(0.5)\n",
    "    grid()\n",
    "    savefig(\"EnrichmentCurve.png\")"
   ]
  },
  {
   "cell_type": "markdown",
   "metadata": {},
   "source": [
    "## BEDHR"
   ]
  },
  {
   "cell_type": "code",
   "execution_count": 8,
   "metadata": {
    "collapsed": false
   },
   "outputs": [],
   "source": [
    "def EnrichFacN(screen_array, act_array):\n",
    "    pend_array=[]\n",
    "    for i in range (0, len(screen_array)):\n",
    "        if act_array[i]!=100:\n",
    "            pendiente=act_array[i]/screen_array[i]\n",
    "            pend_array.append(pendiente)\n",
    "        if act_array[i]==100:\n",
    "            pend_array.append(pendiente)\n",
    "    return pend_array\n",
    "\n",
    "pendiente_CODE=EnrichFacN(CompScreened(DatosArreg), ActScreened(DatosArreg, scorecolu))\n",
    "pendiente_ideal=EnrichFacN(CompScreened(DatosArreg), ActScreened(DatosArreg, 0))"
   ]
  },
  {
   "cell_type": "code",
   "execution_count": 9,
   "metadata": {
    "collapsed": false,
    "scrolled": false
   },
   "outputs": [],
   "source": [
    "#Curva de enriquecimiento para todos los N\n",
    "if curves==True:\n",
    "    figure(figsize=(8,8)); hold=True\n",
    "    plot(CompScreened(DatosArreg), pendiente_CODE, label=\"Scoring Function\", lw=2)\n",
    "    plot(CompScreened(DatosArreg), pendiente_ideal, label=\"Ideal Behaviour\", lw=2)\n",
    "    title(r'Enrichment Factors at All N Values', fontsize=tamano)\n",
    "    xlabel(\"Screened Compounds (N%)\", fontsize=tamano)\n",
    "    ylabel(\"Enrichment Factor at the N%\", fontsize=tamano)\n",
    "    legend(fontsize=tamano, fancybox=True, loc=1).get_frame().set_alpha(0.5)\n",
    "    grid()\n",
    "    savefig('EnrichmentFactors.png')"
   ]
  },
  {
   "cell_type": "code",
   "execution_count": 10,
   "metadata": {
    "collapsed": false
   },
   "outputs": [],
   "source": [
    "def pendiente(screen_array, act_array):\n",
    "    pend_array=[]\n",
    "    for i in range (0, len(screen_array)):\n",
    "        if act_array[i]!=100:\n",
    "            pendiente=(act_array[i+1]-act_array[i])/(screen_array[i+1]-screen_array[i])\n",
    "            pend_array.append(pendiente)\n",
    "        if act_array[i]==100:\n",
    "            pend_array.append(pendiente)\n",
    "    return pend_array\n",
    "\n",
    "pend_inst_code=pendiente(CompScreened(DatosArreg), ActScreened(DatosArreg, scorecolu))\n",
    "pend_inst_ideal=pendiente(CompScreened(DatosArreg), ActScreened(DatosArreg, 0))"
   ]
  },
  {
   "cell_type": "code",
   "execution_count": 11,
   "metadata": {
    "collapsed": false
   },
   "outputs": [],
   "source": [
    "#Curva de enriquecimientos no acumulativos\n",
    "if curves==True:\n",
    "    figure(figsize=(8,8)); hold=True\n",
    "    plot(CompScreened(DatosArreg), pend_inst_code, label=\"Scoring Function\")\n",
    "    plot(CompScreened(DatosArreg), pend_inst_ideal, label=\"Ideal Behaviour\", lw=2)\n",
    "    title(r'Non-Acumulative Enrichment Factors', fontsize=tamano)\n",
    "    xlabel(\"Screened Compounds (N%)\", fontsize=tamano)\n",
    "    ylabel(\"Instant Slope of Enrichment Curve at N%\", fontsize=tamano)\n",
    "    legend(fontsize=tamano, fancybox=True, loc=1).get_frame().set_alpha(0.5)\n",
    "    grid()\n",
    "    savefig(\"Non-acumulativeEnrichments.png\")"
   ]
  },
  {
   "cell_type": "code",
   "execution_count": 12,
   "metadata": {
    "collapsed": true
   },
   "outputs": [],
   "source": [
    "def alfacalc(x, Nimp):\n",
    "    return exp(-x*Nimp/100)-0.8*exp(-x)-0.2"
   ]
  },
  {
   "cell_type": "code",
   "execution_count": 13,
   "metadata": {
    "collapsed": false
   },
   "outputs": [
    {
     "name": "stdout",
     "output_type": "stream",
     "text": [
      "0.586723230543\n"
     ]
    }
   ],
   "source": [
    "def bedef(screened_comp, Nimp):\n",
    "    \n",
    "    bedef=0\n",
    "    \n",
    "    alfa = optimize.brentq(alfacalc, 0.0001, 1000000, args=(Nimp))\n",
    "    \n",
    "    weight=exp(-alfa*screened_comp/100)\n",
    "    bedef_temp=dot(weight, pend_inst_code)\n",
    "    norm=dot(weight, pend_inst_ideal)\n",
    "    bedef=bedef_temp/norm\n",
    "    return bedef\n",
    "\n",
    "BEDEF20=bedef(CompScreened(DatosArreg), 20)\n",
    "BEDEF5=bedef(CompScreened(DatosArreg), 5)\n",
    "BEDEF1=bedef(CompScreened(DatosArreg), 1)\n",
    "BEDEFN=bedef(CompScreened(DatosArreg), Nbedef)"
   ]
  },
  {
   "cell_type": "markdown",
   "metadata": {},
   "source": [
    "## Log File"
   ]
  },
  {
   "cell_type": "code",
   "execution_count": 14,
   "metadata": {
    "collapsed": false
   },
   "outputs": [
    {
     "name": "stdout",
     "output_type": "stream",
     "text": [
      "All the information regarding this calculation and its results was saved to directory BEDHRResults \n"
     ]
    }
   ],
   "source": [
    "arch = open('BEDbla.log', \"a\")\n",
    "    \n",
    "arch.write('Input file: ' + inputfile)\n",
    "\n",
    "arch.write('\\n BEDHR(20%): ' + str(BEDEF20))\n",
    "arch.write('\\n BEDHR(5%): ' + str(BEDEF5))\n",
    "arch.write('\\n BEDHR(1%): ' + str(BEDEF1))\n",
    "arch.write('\\n BEDHR(' + str(Nbedef) + '%): ' + str(BEDEFN))\n",
    "\n",
    "arch.close()\n",
    "    \n",
    "msj='The BEDHR values were written to BEDHR.log'\n",
    "print msj"
   ]
  },
  {
   "cell_type": "code",
   "execution_count": null,
   "metadata": {
    "collapsed": true
   },
   "outputs": [],
   "source": []
  }
 ],
 "metadata": {
  "kernelspec": {
   "display_name": "Python 2",
   "language": "python",
   "name": "python2"
  },
  "language_info": {
   "codemirror_mode": {
    "name": "ipython",
    "version": 2
   },
   "file_extension": ".py",
   "mimetype": "text/x-python",
   "name": "python",
   "nbconvert_exporter": "python",
   "pygments_lexer": "ipython2",
   "version": "2.7.11"
  }
 },
 "nbformat": 4,
 "nbformat_minor": 0
}
